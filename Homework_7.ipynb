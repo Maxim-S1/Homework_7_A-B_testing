{
 "cells": [
  {
   "cell_type": "markdown",
   "id": "1ad3b0b8",
   "metadata": {},
   "source": [
    "## Задание\n",
    "\n",
    "**На основе выбранных продуктов из первого вебинара, выберите 2 A/B-теста и составьте план эксперимента, чтобы избежать Peeking Problem\n",
    "Распишите, какие метрики и как вы будете анализировать**"
   ]
  },
  {
   "cell_type": "markdown",
   "id": "c3bf5567",
   "metadata": {},
   "source": [
    "## Шаблон дизайна эксперимента №1:\n",
    "\n",
    "**Средний чек покупателя, купившего электроинструмент составляет 1200 руб. Количество покупок в день 80**\n",
    "\n",
    "### Гипотеза:\n",
    "**При покупке электроинструмента дарить клиенту в подарок набор расходных материалов на сумму 10 % от стоимости приобретаемого товара.\n",
    "Это приведет к увеличению среднего чека на 5 %.**\n",
    "\n",
    "### Что делаем:\n",
    "**Контрольная версия: оставляем все как есть.\n",
    "Тестовая версия: предлагаем клиентам выбрать расходные материалы на сумму <= 10 % от стоимости приобретенного электроинструмента.**\n",
    "\n",
    "### На каких пользователях тестируем:\n",
    "**На новых пользователях**\n",
    "\n",
    "### Ключевые метрики для оценки эксперимента:\n",
    "\n",
    "- **средний чек**\n",
    "\n",
    "### Ожидаемый эффект:\n",
    "**Увеличение показателя средний чека на 5 %**\n",
    "\n",
    "### План действий в зависимости от результата:\n",
    "**В случае достижения целевых показателей распространяем действие эксперимента на всех пользователей.\n",
    "Если метки не меняются или падают, то откатываем.**\n",
    "    "
   ]
  },
  {
   "cell_type": "code",
   "execution_count": 1,
   "id": "3010bcee",
   "metadata": {},
   "outputs": [],
   "source": [
    "from statsmodels.stats.power import tt_ind_solve_power, zt_ind_solve_power\n",
    "from statsmodels.stats.proportion import proportion_effectsize\n",
    "from statsmodels.stats.meta_analysis import effectsize_smd\n",
    "from typing import Union\n",
    "import plotly.graph_objects as go\n",
    "from scipy import stats\n",
    "from math import asin\n",
    "import numpy as np"
   ]
  },
  {
   "cell_type": "code",
   "execution_count": 2,
   "id": "785d91e2",
   "metadata": {},
   "outputs": [],
   "source": [
    "def calc_proportion_es(prob1: float, prob2: float): # расчет effectsize для пропорции\n",
    "    \n",
    "    return abs(proportion_effectsize(prob1, prob2)) # расчет на основе вероятности 1 события и 2 события\n",
    "\n",
    "def calc_proportion_es_alt(conv1: float, conv2:float, prob1:float, prob2: float):\n",
    "    \n",
    "    return 2  * asin(np.sqrt(conv1/nobs1)) - 2 * asin(np.sqrt(conv2/nobs2))\n",
    "\n",
    "def calc_continuous_es(mean_control: Union[float, int],   # расчет effectsize для непрерывной метрики\n",
    "                       std_control: Union[float, int],\n",
    "                       mean_test: Union[float, int],\n",
    "                       std_test: Union[float, int]):\n",
    "    \n",
    "    return abs(effectsize_smd(mean_control,\n",
    "                              std_control,\n",
    "                              1e4,\n",
    "                              mean_test,\n",
    "                              std_test,\n",
    "                              1e4)[0])\n",
    "\n",
    "def calc_continuous_es_alt(mean_control: Union[float, int],\n",
    "                           std_control: Union[float, int],\n",
    "                           mean_test: Union[float, int],\n",
    "                           std_test: Union[float, int]):\n",
    "    \n",
    "    effect_size = (mean_test - mean_control) / ((std_control**2 + std_test**2) / 2) ** 0.5\n",
    "    return effect_size\n",
    "    \n",
    "def calc_sample_size_continuous(effect_size: float,\n",
    "                     alpha: float = .05,\n",
    "                     beta: float = .2,\n",
    "                     ratio: Union[float, int] = 1):\n",
    "    \n",
    "    n = tt_ind_solve_power(effect_size=effect_size,\n",
    "                           alpha=alpha,\n",
    "                           power=(1 - beta),\n",
    "                           ratio=ratio,\n",
    "                  )\n",
    "    return int(n * 2)\n",
    "\n",
    "def calc_sample_size_proportion(effect_size: float,\n",
    "                     alpha: float = .05,\n",
    "                     beta: float = .2,\n",
    "                     ratio: Union[float, int] = 1):\n",
    "    \n",
    "    n = zt_ind_solve_power(effect_size=effect_size,\n",
    "                           alpha=alpha,\n",
    "                           power=(1 - beta),\n",
    "                           ratio=ratio,\n",
    "                  )\n",
    "    return int(n * 2)"
   ]
  },
  {
   "cell_type": "markdown",
   "id": "07373209",
   "metadata": {},
   "source": [
    "### Расчет продолжительности эксперимента № 1 при alpha = 5% и beta = 20% и стандартной ошибке (SD) равной 175"
   ]
  },
  {
   "cell_type": "code",
   "execution_count": 28,
   "id": "da2a0021",
   "metadata": {},
   "outputs": [],
   "source": [
    "mu_control, mu_test = 1200, 1260\n",
    "std_control, std_test = 175, 175"
   ]
  },
  {
   "cell_type": "code",
   "execution_count": 29,
   "id": "9916c0c7",
   "metadata": {},
   "outputs": [
    {
     "data": {
      "text/plain": [
       "0.3428442842676944"
      ]
     },
     "execution_count": 29,
     "metadata": {},
     "output_type": "execute_result"
    }
   ],
   "source": [
    "# определяем effectsize\n",
    "es_cont = calc_continuous_es(mu_control, std_control, mu_test, std_test)\n",
    "es_cont"
   ]
  },
  {
   "cell_type": "code",
   "execution_count": 30,
   "id": "11a2306e",
   "metadata": {},
   "outputs": [
    {
     "data": {
      "text/plain": [
       "269"
      ]
     },
     "execution_count": 30,
     "metadata": {},
     "output_type": "execute_result"
    }
   ],
   "source": [
    "# определяем количество наблюдений\n",
    "num_observations = calc_sample_size_continuous(es_cont)\n",
    "num_observations"
   ]
  },
  {
   "cell_type": "code",
   "execution_count": 31,
   "id": "0ce9b483",
   "metadata": {},
   "outputs": [
    {
     "data": {
      "text/plain": [
       "3.4"
      ]
     },
     "execution_count": 31,
     "metadata": {},
     "output_type": "execute_result"
    }
   ],
   "source": [
    "# определяем количество дней\n",
    "day = round(num_observations/80, 1)\n",
    "day"
   ]
  },
  {
   "cell_type": "markdown",
   "id": "74b08751",
   "metadata": {},
   "source": [
    "### Ответ: Продолжительность эксперимента № 1 составит 3,4 дня."
   ]
  },
  {
   "cell_type": "markdown",
   "id": "f07e35b2",
   "metadata": {},
   "source": [
    "## Шаблон дизайна эксперимента №1:\n",
    "\n",
    "\n",
    "**Объем продаж отделочных материалов в день составляет 215000 руб. Количество заказов дизайна дома в день 15**\n",
    "\n",
    "### Гипотеза:\n",
    "**Клиент, приобретающий отделочные материалы в магазине, получает бесплатный дизай интерьера своего частного дома. \n",
    "Это приведет к увеличению товарооборота отделочных материалов на 8 %.**\n",
    "\n",
    "### Что делаем:\n",
    "**Контрольная версия: оставляем все как есть.\n",
    "Тестовая версия: предлагаем клиентам приобрести отделочные материалы в магазине, за что они получают бесплатны дизайн интерьера**\n",
    "\n",
    "### На каких пользователях тестируем:\n",
    "**На клиентах заказывающих дизайн интерьера в магазине**\n",
    "\n",
    "### Ключевые метрики для оценки эксперимента:\n",
    "\n",
    "**объем продаж отделочных материалов**\n",
    "\n",
    "### Ожидаемый эффект:\n",
    "**Увеличение показателя продаж вырастетна 8 %**\n",
    "\n",
    "### План действий в зависимости от результата:\n",
    "**В случае достижения целевых показателей распространяем действие эксперимента на всех пользователей.\n",
    "Если метки не меняются или падают, то откатываем.**"
   ]
  },
  {
   "cell_type": "markdown",
   "id": "878902b2",
   "metadata": {},
   "source": [
    "### Расчет продолжительности эксперимента № 2 при alpha = 5% и beta = 20% и стандартной ошибке (SD) равной 20000"
   ]
  },
  {
   "cell_type": "code",
   "execution_count": 41,
   "id": "c5d69fd8",
   "metadata": {},
   "outputs": [],
   "source": [
    "mu_control, mu_test = 215000, 232200\n",
    "std_control, std_test = 20000, 20000"
   ]
  },
  {
   "cell_type": "code",
   "execution_count": 42,
   "id": "d943a488",
   "metadata": {},
   "outputs": [
    {
     "data": {
      "text/plain": [
       "0.8599677463714668"
      ]
     },
     "execution_count": 42,
     "metadata": {},
     "output_type": "execute_result"
    }
   ],
   "source": [
    "# определяем effectsize\n",
    "es_cont = calc_continuous_es(mu_control, std_control, mu_test, std_test)\n",
    "es_cont"
   ]
  },
  {
   "cell_type": "code",
   "execution_count": 43,
   "id": "309d8478",
   "metadata": {},
   "outputs": [
    {
     "data": {
      "text/plain": [
       "44"
      ]
     },
     "execution_count": 43,
     "metadata": {},
     "output_type": "execute_result"
    }
   ],
   "source": [
    "# определяем количество наблюдений\n",
    "num_observations = calc_sample_size_continuous(es_cont)\n",
    "num_observations"
   ]
  },
  {
   "cell_type": "code",
   "execution_count": 45,
   "id": "36e88b50",
   "metadata": {},
   "outputs": [
    {
     "data": {
      "text/plain": [
       "2.9"
      ]
     },
     "execution_count": 45,
     "metadata": {},
     "output_type": "execute_result"
    }
   ],
   "source": [
    "# определяем количество дней\n",
    "day = round(num_observations/15, 1)\n",
    "day"
   ]
  },
  {
   "cell_type": "markdown",
   "id": "752ac183",
   "metadata": {},
   "source": [
    "### Ответ: Продолжительность эксперимента № 2 составит 2,9 дня."
   ]
  }
 ],
 "metadata": {
  "kernelspec": {
   "display_name": "Python 3 (ipykernel)",
   "language": "python",
   "name": "python3"
  },
  "language_info": {
   "codemirror_mode": {
    "name": "ipython",
    "version": 3
   },
   "file_extension": ".py",
   "mimetype": "text/x-python",
   "name": "python",
   "nbconvert_exporter": "python",
   "pygments_lexer": "ipython3",
   "version": "3.9.13"
  }
 },
 "nbformat": 4,
 "nbformat_minor": 5
}
